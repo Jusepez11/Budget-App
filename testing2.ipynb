{
 "cells": [
  {
   "cell_type": "code",
   "execution_count": 6,
   "metadata": {},
   "outputs": [
    {
     "name": "stdout",
     "output_type": "stream",
     "text": [
      "100\n"
     ]
    }
   ],
   "source": [
    "\n",
    "lista = []\n",
    "\n",
    "lista.append({\"amount\": 10, \"description\": \"Hola\"})\n",
    "lista.append({\"amount\": 90, \"description\": \"Holant\"})\n",
    "a = 0\n",
    "for i in range(len(lista)):\n",
    "    a += lista[i][\"amount\"]\n",
    "print(a)"
   ]
  },
  {
   "cell_type": "code",
   "execution_count": 1,
   "metadata": {},
   "outputs": [
    {
     "name": "stdout",
     "output_type": "stream",
     "text": [
      "32\n"
     ]
    }
   ],
   "source": [
    "b = 0\n",
    "def a(x):\n",
    "    print(x)\n",
    "\n",
    "a(32 if b == 0 else 12)"
   ]
  }
 ],
 "metadata": {
  "kernelspec": {
   "display_name": "Python 3.10.5 64-bit",
   "language": "python",
   "name": "python3"
  },
  "language_info": {
   "codemirror_mode": {
    "name": "ipython",
    "version": 3
   },
   "file_extension": ".py",
   "mimetype": "text/x-python",
   "name": "python",
   "nbconvert_exporter": "python",
   "pygments_lexer": "ipython3",
   "version": "3.10.5"
  },
  "orig_nbformat": 4,
  "vscode": {
   "interpreter": {
    "hash": "9d1bbec851b9fa7ff23582f1dd017a36951e8a27186f6fae2033e1d161512c31"
   }
  }
 },
 "nbformat": 4,
 "nbformat_minor": 2
}
